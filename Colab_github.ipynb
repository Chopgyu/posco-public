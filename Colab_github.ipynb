{
  "nbformat": 4,
  "nbformat_minor": 0,
  "metadata": {
    "colab": {
      "provenance": [],
      "toc_visible": true,
      "authorship_tag": "ABX9TyPySmTAQq5PFrf+LuXnDlpf",
      "include_colab_link": true
    },
    "kernelspec": {
      "name": "python3",
      "display_name": "Python 3"
    },
    "language_info": {
      "name": "python"
    }
  },
  "cells": [
    {
      "cell_type": "markdown",
      "metadata": {
        "id": "view-in-github",
        "colab_type": "text"
      },
      "source": [
        "<a href=\"https://colab.research.google.com/github/Chopgyu/posco-public/blob/main/Colab_github.ipynb\" target=\"_parent\"><img src=\"https://colab.research.google.com/assets/colab-badge.svg\" alt=\"Open In Colab\"/></a>"
      ]
    },
    {
      "cell_type": "code",
      "execution_count": 1,
      "metadata": {
        "id": "QLnoK7T3QR9y",
        "colab": {
          "base_uri": "https://localhost:8080/"
        },
        "outputId": "b312c268-72ac-4741-ea6c-7a00428e55cf"
      },
      "outputs": [
        {
          "output_type": "stream",
          "name": "stdout",
          "text": [
            "Hello, Colab!\n",
            "Python 데이터 분석을 시작합니다!\n",
            "안녕하세요, 데이터 분석가!\n"
          ]
        }
      ],
      "source": [
        "print(\"Hello, Colab!\")\n",
        "print(\"Python 데이터 분석을 시작합니다!\")\n",
        "\n",
        "#변수 선언\n",
        "name = \"데이터 분석가\"\n",
        "print(f\"안녕하세요, {name}!\")\n",
        "\n",
        "#간단 계산\n",
        "result = 10+20"
      ]
    }
  ]
}